{
 "cells": [
  {
   "cell_type": "code",
   "execution_count": 46,
   "metadata": {},
   "outputs": [],
   "source": [
    "# Doing this in python cause i always suck at reading files when working with it.\n",
    "import numpy as np"
   ]
  },
  {
   "cell_type": "code",
   "execution_count": 47,
   "metadata": {},
   "outputs": [],
   "source": [
    "# Read the file\n",
    "filePath = \"../input/input.txt\"\n",
    "exampleFilePath = \"../input/input.example.txt\""
   ]
  },
  {
   "cell_type": "code",
   "execution_count": 48,
   "metadata": {},
   "outputs": [
    {
     "data": {
      "text/plain": [
       "array([['A', 'S', 'A', ..., 'A', 'S', 'M'],\n",
       "       ['M', 'M', 'X', ..., 'S', 'A', 'S'],\n",
       "       ['S', 'A', 'M', ..., 'X', 'A', 'X'],\n",
       "       ...,\n",
       "       ['M', 'A', 'X', ..., 'S', 'A', 'S'],\n",
       "       ['X', 'M', 'S', ..., 'S', 'M', 'M'],\n",
       "       ['A', 'X', 'M', ..., 'M', 'A', 'S']], dtype='<U1')"
      ]
     },
     "execution_count": 48,
     "metadata": {},
     "output_type": "execute_result"
    }
   ],
   "source": [
    "# storing as a multidimensional array\n",
    "wordSearch = []\n",
    "\n",
    "with open(filePath, \"r\") as file:\n",
    "    for line in file:\n",
    "        l = list(line)\n",
    "        if \"\\n\" in l:\n",
    "            l.remove(\"\\n\")\n",
    "        wordSearch.append(l)\n",
    "wordSearch = np.array(wordSearch)\n",
    "\n",
    "wordSearch"
   ]
  },
  {
   "cell_type": "code",
   "execution_count": 49,
   "metadata": {},
   "outputs": [
    {
     "data": {
      "text/plain": [
       "2685"
      ]
     },
     "execution_count": 49,
     "metadata": {},
     "output_type": "execute_result"
    }
   ],
   "source": [
    "count = 0\n",
    "\n",
    "for rowIdx in range(len(wordSearch)):\n",
    "    row = wordSearch[rowIdx]\n",
    "\n",
    "    for colIdx in range(len(row)):\n",
    "        letter = row[colIdx]\n",
    "\n",
    "        if letter == \"X\":\n",
    "            # search in all 8 directions. yeah this part is gonna suck\n",
    "\n",
    "            # top to bottom\n",
    "            if rowIdx + 3 < len(wordSearch):\n",
    "                wordSlice = \"\"\n",
    "                for i in range(4):\n",
    "                    wordSlice += wordSearch[rowIdx + i][colIdx]\n",
    "\n",
    "                if wordSlice == \"XMAS\":\n",
    "                    count += 1\n",
    "                \n",
    "\n",
    "            # bottom to top\n",
    "            if rowIdx - 3 >= 0:\n",
    "                wordSlice = \"\"\n",
    "                for i in range(4):\n",
    "                    wordSlice += wordSearch[rowIdx - i][colIdx]\n",
    "\n",
    "                if wordSlice == \"XMAS\":\n",
    "                    count += 1\n",
    "\n",
    "\n",
    "            # left to right\n",
    "            if colIdx + 3 < len(row): # check if the word can fit\n",
    "                wordSlice =  row[colIdx:rowIdx+4]\n",
    "                wordSlice = \"\"\n",
    "                for i in range(4):\n",
    "                    wordSlice += row[colIdx + i]\n",
    "\n",
    "                if wordSlice == \"XMAS\":\n",
    "                    count += 1\n",
    "\n",
    "\n",
    "                # might as well check the left-right diagonals while i'm at it\n",
    "                # bottom-right diagonal\n",
    "                if rowIdx + 3 < len(wordSearch):\n",
    "                    wordSlice = \"\"\n",
    "                    for i in range(4):\n",
    "                        wordSlice += wordSearch[rowIdx + i][colIdx + i]\n",
    "                    \n",
    "                    if wordSlice == \"XMAS\":\n",
    "                        count += 1\n",
    "\n",
    "                # top-right diagonal\n",
    "                if rowIdx - 3 >= 0:\n",
    "                    wordSlice = \"\"\n",
    "                    for i in range(4):\n",
    "                        wordSlice += wordSearch[rowIdx - i][colIdx + i]\n",
    "                    \n",
    "                    if wordSlice == \"XMAS\":\n",
    "                        count += 1\n",
    "            \n",
    "\n",
    "            # right to left\n",
    "            if colIdx - 3 >= 0:\n",
    "                wordSlice = row[rowIdx - 4:rowIdx]\n",
    "                wordSlice = \"\"\n",
    "                for i in range(4):\n",
    "                    wordSlice += row[colIdx - i]\n",
    "\n",
    "                if wordSlice == \"XMAS\":\n",
    "                    count += 1\n",
    "\n",
    "                # diagonals\n",
    "                # bottom-left diagonal\n",
    "                if rowIdx + 3 < len(wordSearch):\n",
    "                    wordSlice = \"\"\n",
    "                    for i in range(4):\n",
    "                        wordSlice += wordSearch[rowIdx + i][colIdx - i]\n",
    "                    \n",
    "                    if wordSlice == \"XMAS\":\n",
    "                        count += 1\n",
    "\n",
    "                # top-left diagonal\n",
    "                if rowIdx - 3 >= 0:\n",
    "                    wordSlice = \"\"\n",
    "                    for i in range(4):\n",
    "                        wordSlice += wordSearch[rowIdx - i][colIdx - i]\n",
    "                    \n",
    "                    if wordSlice == \"XMAS\":\n",
    "                        count += 1\n",
    "\n",
    "count           "
   ]
  },
  {
   "cell_type": "code",
   "execution_count": 50,
   "metadata": {},
   "outputs": [
    {
     "data": {
      "text/plain": [
       "2048"
      ]
     },
     "execution_count": 50,
     "metadata": {},
     "output_type": "execute_result"
    }
   ],
   "source": [
    "# Part two\n",
    "\n",
    "\"\"\"\n",
    "Going to go top down, only looking at diagonals that go downwards. This will avoid double counting\n",
    "\n",
    "\"\"\"\n",
    "count = 0\n",
    "\n",
    "for rowIdx in range(len(wordSearch)):\n",
    "    row = wordSearch[rowIdx]\n",
    "\n",
    "    for colIdx in range(len(row)):\n",
    "        letter = row[colIdx]\n",
    "\n",
    "        if letter == \"M\" or letter == \"S\":\n",
    "            # looking for mas or sam\n",
    "            # check 2 directions: bottom-right, then drop 2 and check top-left\n",
    "            if colIdx + 2 < len(row) and rowIdx + 2 < len(wordSearch): # both need to be satisfied\n",
    "                x_1 = \"\"  # bottom-right\n",
    "                x_2 = \"\"  # top-left\n",
    "\n",
    "                for i in range(3):\n",
    "                    x_1 += wordSearch[rowIdx + i][colIdx + i]\n",
    "                    x_2 += wordSearch[rowIdx + 2 - i][colIdx + i]\n",
    "\n",
    "                validX1 = x_1 == \"MAS\" or x_1 == \"SAM\"\n",
    "                validX2 = x_2 == \"MAS\" or x_2 == \"SAM\"\n",
    "\n",
    "                if validX1 and validX2:\n",
    "                    count += 1\n",
    "\n",
    "count\n"
   ]
  }
 ],
 "metadata": {
  "kernelspec": {
   "display_name": "Python 3",
   "language": "python",
   "name": "python3"
  },
  "language_info": {
   "codemirror_mode": {
    "name": "ipython",
    "version": 3
   },
   "file_extension": ".py",
   "mimetype": "text/x-python",
   "name": "python",
   "nbconvert_exporter": "python",
   "pygments_lexer": "ipython3",
   "version": "3.11.7"
  }
 },
 "nbformat": 4,
 "nbformat_minor": 2
}
